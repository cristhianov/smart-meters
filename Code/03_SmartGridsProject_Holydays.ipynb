{
  "nbformat": 4,
  "nbformat_minor": 0,
  "metadata": {
    "colab": {
      "name": "03. SmartGridsProject-Holydays.ipynb",
      "provenance": []
    },
    "kernelspec": {
      "name": "python3",
      "display_name": "Python 3"
    },
    "language_info": {
      "name": "python"
    }
  },
  "cells": [
    {
      "cell_type": "markdown",
      "metadata": {
        "id": "923rPfOKf9VK"
      },
      "source": [
        "#Importaciones Iniciales\n",
        "import numpy as np\n",
        "import pandas as pd\n",
        "import matplotlib.pyplot as plt\n",
        "from google.colab import drive\n",
        "drive.mount('/content/drive')"
      ]
    },
    {
      "cell_type": "markdown",
      "metadata": {
        "id": "KAgaGzB-p_wo"
      },
      "source": [
        "### **1. Importaciones Iniciales**"
      ]
    },
    {
      "cell_type": "code",
      "metadata": {
        "colab": {
          "base_uri": "https://localhost:8080/"
        },
        "id": "gMi5SwNBhyl5",
        "outputId": "a2a5e3c8-1e50-4afa-fe35-9fe31f6387ea"
      },
      "source": [
        "#Importaciones Iniciales\n",
        "import numpy as np\n",
        "import pandas as pd\n",
        "import matplotlib.pyplot as plt\n",
        "from google.colab import drive\n",
        "drive.mount('/content/drive')\n",
        "import re"
      ],
      "execution_count": null,
      "outputs": [
        {
          "output_type": "stream",
          "name": "stdout",
          "text": [
            "Drive already mounted at /content/drive; to attempt to forcibly remount, call drive.mount(\"/content/drive\", force_remount=True).\n"
          ]
        }
      ]
    },
    {
      "cell_type": "code",
      "metadata": {
        "colab": {
          "base_uri": "https://localhost:8080/",
          "height": 200
        },
        "id": "9NCUMBjohypT",
        "outputId": "03fe16a8-94ff-4497-b881-b43c1a540601"
      },
      "source": [
        "data = pd.read_csv('/content/drive/MyDrive/Data/uk_bank_holidays.csv')\n",
        "data.head()"
      ],
      "execution_count": null,
      "outputs": [
        {
          "output_type": "execute_result",
          "data": {
            "text/html": [
              "<div>\n",
              "<style scoped>\n",
              "    .dataframe tbody tr th:only-of-type {\n",
              "        vertical-align: middle;\n",
              "    }\n",
              "\n",
              "    .dataframe tbody tr th {\n",
              "        vertical-align: top;\n",
              "    }\n",
              "\n",
              "    .dataframe thead th {\n",
              "        text-align: right;\n",
              "    }\n",
              "</style>\n",
              "<table border=\"1\" class=\"dataframe\">\n",
              "  <thead>\n",
              "    <tr style=\"text-align: right;\">\n",
              "      <th></th>\n",
              "      <th>Bank holidays</th>\n",
              "      <th>Type</th>\n",
              "    </tr>\n",
              "  </thead>\n",
              "  <tbody>\n",
              "    <tr>\n",
              "      <th>0</th>\n",
              "      <td>2012-12-26</td>\n",
              "      <td>Boxing Day</td>\n",
              "    </tr>\n",
              "    <tr>\n",
              "      <th>1</th>\n",
              "      <td>2012-12-25</td>\n",
              "      <td>Christmas Day</td>\n",
              "    </tr>\n",
              "    <tr>\n",
              "      <th>2</th>\n",
              "      <td>2012-08-27</td>\n",
              "      <td>Summer bank holiday</td>\n",
              "    </tr>\n",
              "    <tr>\n",
              "      <th>3</th>\n",
              "      <td>2012-05-06</td>\n",
              "      <td>Queen?s Diamond Jubilee (extra bank holiday)</td>\n",
              "    </tr>\n",
              "    <tr>\n",
              "      <th>4</th>\n",
              "      <td>2012-04-06</td>\n",
              "      <td>Spring bank holiday (substitute day)</td>\n",
              "    </tr>\n",
              "  </tbody>\n",
              "</table>\n",
              "</div>"
            ],
            "text/plain": [
              "  Bank holidays                                          Type\n",
              "0    2012-12-26                                    Boxing Day\n",
              "1    2012-12-25                                 Christmas Day\n",
              "2    2012-08-27                           Summer bank holiday\n",
              "3    2012-05-06  Queen?s Diamond Jubilee (extra bank holiday)\n",
              "4    2012-04-06          Spring bank holiday (substitute day)"
            ]
          },
          "metadata": {},
          "execution_count": 2
        }
      ]
    },
    {
      "cell_type": "markdown",
      "metadata": {
        "id": "lGOxq_o4qIMY"
      },
      "source": [
        "### **2. Inspeccion Inicial de la Data**"
      ]
    },
    {
      "cell_type": "code",
      "metadata": {
        "colab": {
          "base_uri": "https://localhost:8080/"
        },
        "id": "xT-HXrFThzHk",
        "outputId": "2afd63b4-e58b-4060-d957-b407af45b56e"
      },
      "source": [
        "#Inspeccion Inicial de la Info\n",
        "data.info()"
      ],
      "execution_count": null,
      "outputs": [
        {
          "output_type": "stream",
          "name": "stdout",
          "text": [
            "<class 'pandas.core.frame.DataFrame'>\n",
            "RangeIndex: 25 entries, 0 to 24\n",
            "Data columns (total 2 columns):\n",
            " #   Column         Non-Null Count  Dtype \n",
            "---  ------         --------------  ----- \n",
            " 0   Bank holidays  25 non-null     object\n",
            " 1   Type           25 non-null     object\n",
            "dtypes: object(2)\n",
            "memory usage: 528.0+ bytes\n"
          ]
        }
      ]
    },
    {
      "cell_type": "code",
      "metadata": {
        "colab": {
          "base_uri": "https://localhost:8080/"
        },
        "id": "uIGkG_FY1e76",
        "outputId": "bb8ee395-69ca-4df3-be2f-b5f8d93ec113"
      },
      "source": [
        "data.shape"
      ],
      "execution_count": null,
      "outputs": [
        {
          "output_type": "execute_result",
          "data": {
            "text/plain": [
              "(25, 2)"
            ]
          },
          "metadata": {},
          "execution_count": 4
        }
      ]
    },
    {
      "cell_type": "code",
      "metadata": {
        "colab": {
          "base_uri": "https://localhost:8080/"
        },
        "id": "PuiFEGTMqsvd",
        "outputId": "c5c864bf-7c65-41b2-c675-9195e1e7a388"
      },
      "source": [
        "data.columns"
      ],
      "execution_count": null,
      "outputs": [
        {
          "output_type": "execute_result",
          "data": {
            "text/plain": [
              "Index(['Bank holidays', 'Type'], dtype='object')"
            ]
          },
          "metadata": {},
          "execution_count": 5
        }
      ]
    },
    {
      "cell_type": "code",
      "metadata": {
        "colab": {
          "base_uri": "https://localhost:8080/",
          "height": 170
        },
        "id": "TktxQAJq4Umi",
        "outputId": "6d8ac8e7-93d2-4c3a-ea82-f0541038b9a8"
      },
      "source": [
        "data.describe()"
      ],
      "execution_count": null,
      "outputs": [
        {
          "output_type": "execute_result",
          "data": {
            "text/html": [
              "<div>\n",
              "<style scoped>\n",
              "    .dataframe tbody tr th:only-of-type {\n",
              "        vertical-align: middle;\n",
              "    }\n",
              "\n",
              "    .dataframe tbody tr th {\n",
              "        vertical-align: top;\n",
              "    }\n",
              "\n",
              "    .dataframe thead th {\n",
              "        text-align: right;\n",
              "    }\n",
              "</style>\n",
              "<table border=\"1\" class=\"dataframe\">\n",
              "  <thead>\n",
              "    <tr style=\"text-align: right;\">\n",
              "      <th></th>\n",
              "      <th>Bank holidays</th>\n",
              "      <th>Type</th>\n",
              "    </tr>\n",
              "  </thead>\n",
              "  <tbody>\n",
              "    <tr>\n",
              "      <th>count</th>\n",
              "      <td>25</td>\n",
              "      <td>25</td>\n",
              "    </tr>\n",
              "    <tr>\n",
              "      <th>unique</th>\n",
              "      <td>25</td>\n",
              "      <td>11</td>\n",
              "    </tr>\n",
              "    <tr>\n",
              "      <th>top</th>\n",
              "      <td>2012-04-06</td>\n",
              "      <td>Early May bank holiday</td>\n",
              "    </tr>\n",
              "    <tr>\n",
              "      <th>freq</th>\n",
              "      <td>1</td>\n",
              "      <td>3</td>\n",
              "    </tr>\n",
              "  </tbody>\n",
              "</table>\n",
              "</div>"
            ],
            "text/plain": [
              "       Bank holidays                    Type\n",
              "count             25                      25\n",
              "unique            25                      11\n",
              "top       2012-04-06  Early May bank holiday\n",
              "freq               1                       3"
            ]
          },
          "metadata": {},
          "execution_count": 6
        }
      ]
    },
    {
      "cell_type": "code",
      "metadata": {
        "id": "QBTKhUXIhzfG"
      },
      "source": [
        "#Analizar los Nulos \n",
        "#null_cols = data.isnull().sum()\n",
        "#null_cols"
      ],
      "execution_count": null,
      "outputs": []
    },
    {
      "cell_type": "code",
      "metadata": {
        "id": "SGu2GHWapsyi"
      },
      "source": [
        "#Analizar por que los datos son Nulos en la columna Energy_STD\n",
        "#null_displ = data[data['energy_std'].isnull() == True]\n",
        "#null_displ"
      ],
      "execution_count": null,
      "outputs": []
    },
    {
      "cell_type": "code",
      "metadata": {
        "id": "jTCTHbhzhzpX"
      },
      "source": [
        "#Eliminar aquellos valores nulos que sean mayores a 10.000 datos. \n",
        "#drop_cols = list(null_cols[null_cols > 10_000].index)\n",
        "#print(drop_cols)"
      ],
      "execution_count": null,
      "outputs": []
    },
    {
      "cell_type": "code",
      "metadata": {
        "id": "AAHrAzRbqUVY"
      },
      "source": [
        "#se esta presentando que este caso es NAN dado que por algun motivo el medidor de la energia solo tomo un registro de \n",
        "#informacion de los 48 que debia; esto ocasiona que al no haber mayores datos para calcular esta desviacion el valor sea Nulo.\n",
        "#Se decide que este valor se igualara a 0 y se mantendran los registros medidos.\n",
        "#La cantidad total de filas es 3.510.433 y los nulos son 11.331 que representa el 0.32% lo cual no es considerable. "
      ],
      "execution_count": null,
      "outputs": []
    },
    {
      "cell_type": "code",
      "metadata": {
        "id": "qJpRLrh3qPjk"
      },
      "source": [
        "data_clean = data.copy()"
      ],
      "execution_count": null,
      "outputs": []
    },
    {
      "cell_type": "code",
      "metadata": {
        "colab": {
          "base_uri": "https://localhost:8080/",
          "height": 200
        },
        "id": "k_miIDHYyyLm",
        "outputId": "481b453d-9ccb-40b2-9d67-983d790802bc"
      },
      "source": [
        "data_clean.head()"
      ],
      "execution_count": null,
      "outputs": [
        {
          "output_type": "execute_result",
          "data": {
            "text/html": [
              "<div>\n",
              "<style scoped>\n",
              "    .dataframe tbody tr th:only-of-type {\n",
              "        vertical-align: middle;\n",
              "    }\n",
              "\n",
              "    .dataframe tbody tr th {\n",
              "        vertical-align: top;\n",
              "    }\n",
              "\n",
              "    .dataframe thead th {\n",
              "        text-align: right;\n",
              "    }\n",
              "</style>\n",
              "<table border=\"1\" class=\"dataframe\">\n",
              "  <thead>\n",
              "    <tr style=\"text-align: right;\">\n",
              "      <th></th>\n",
              "      <th>Bank holidays</th>\n",
              "      <th>Type</th>\n",
              "    </tr>\n",
              "  </thead>\n",
              "  <tbody>\n",
              "    <tr>\n",
              "      <th>0</th>\n",
              "      <td>2012-12-26</td>\n",
              "      <td>Boxing Day</td>\n",
              "    </tr>\n",
              "    <tr>\n",
              "      <th>1</th>\n",
              "      <td>2012-12-25</td>\n",
              "      <td>Christmas Day</td>\n",
              "    </tr>\n",
              "    <tr>\n",
              "      <th>2</th>\n",
              "      <td>2012-08-27</td>\n",
              "      <td>Summer bank holiday</td>\n",
              "    </tr>\n",
              "    <tr>\n",
              "      <th>3</th>\n",
              "      <td>2012-05-06</td>\n",
              "      <td>Queen?s Diamond Jubilee (extra bank holiday)</td>\n",
              "    </tr>\n",
              "    <tr>\n",
              "      <th>4</th>\n",
              "      <td>2012-04-06</td>\n",
              "      <td>Spring bank holiday (substitute day)</td>\n",
              "    </tr>\n",
              "  </tbody>\n",
              "</table>\n",
              "</div>"
            ],
            "text/plain": [
              "  Bank holidays                                          Type\n",
              "0    2012-12-26                                    Boxing Day\n",
              "1    2012-12-25                                 Christmas Day\n",
              "2    2012-08-27                           Summer bank holiday\n",
              "3    2012-05-06  Queen?s Diamond Jubilee (extra bank holiday)\n",
              "4    2012-04-06          Spring bank holiday (substitute day)"
            ]
          },
          "metadata": {},
          "execution_count": 11
        }
      ]
    },
    {
      "cell_type": "code",
      "metadata": {
        "id": "2B0P2WaPqUSL"
      },
      "source": [
        "#Rellenar NaN con 0\n",
        "#data_clean[['energy_std']] = data_clean[['energy_std']].fillna(0)"
      ],
      "execution_count": null,
      "outputs": []
    },
    {
      "cell_type": "code",
      "metadata": {
        "id": "gPwKl1Y3Kx-9"
      },
      "source": [
        "#null_cols_clean = data_clean.isnull().sum()\n",
        "#null_cols_clean"
      ],
      "execution_count": null,
      "outputs": []
    },
    {
      "cell_type": "code",
      "metadata": {
        "id": "CXSteN6EqULg"
      },
      "source": [
        "#Tramamiento de nulls -> Done\n",
        "#Validar otros nulls que puedan tener sentido -> Done\n",
        "#Elementos de baja varianza -> N/A\n",
        "#Ouliers N/A\n",
        "#Obtener cuantiles / percentiles\n"
      ],
      "execution_count": null,
      "outputs": []
    },
    {
      "cell_type": "code",
      "metadata": {
        "id": "2qigK4PJXVfx"
      },
      "source": [
        "#Preparar Columna de Day para manipulacion. \n",
        "data_clean['Date'] = pd.to_datetime(data_clean['Bank holidays']\n",
        "                            # , format='%d/%m/%Y'\n",
        "                            # , dayfirst=True\n",
        "                            )"
      ],
      "execution_count": null,
      "outputs": []
    },
    {
      "cell_type": "code",
      "metadata": {
        "colab": {
          "base_uri": "https://localhost:8080/",
          "height": 108
        },
        "id": "o1AHoFemX37b",
        "outputId": "0288a5f3-5feb-481e-9181-76d271f66ef8"
      },
      "source": [
        "data_clean.head(2)"
      ],
      "execution_count": null,
      "outputs": [
        {
          "output_type": "execute_result",
          "data": {
            "text/html": [
              "<div>\n",
              "<style scoped>\n",
              "    .dataframe tbody tr th:only-of-type {\n",
              "        vertical-align: middle;\n",
              "    }\n",
              "\n",
              "    .dataframe tbody tr th {\n",
              "        vertical-align: top;\n",
              "    }\n",
              "\n",
              "    .dataframe thead th {\n",
              "        text-align: right;\n",
              "    }\n",
              "</style>\n",
              "<table border=\"1\" class=\"dataframe\">\n",
              "  <thead>\n",
              "    <tr style=\"text-align: right;\">\n",
              "      <th></th>\n",
              "      <th>Bank holidays</th>\n",
              "      <th>Type</th>\n",
              "      <th>Date</th>\n",
              "    </tr>\n",
              "  </thead>\n",
              "  <tbody>\n",
              "    <tr>\n",
              "      <th>0</th>\n",
              "      <td>2012-12-26</td>\n",
              "      <td>Boxing Day</td>\n",
              "      <td>2012-12-26</td>\n",
              "    </tr>\n",
              "    <tr>\n",
              "      <th>1</th>\n",
              "      <td>2012-12-25</td>\n",
              "      <td>Christmas Day</td>\n",
              "      <td>2012-12-25</td>\n",
              "    </tr>\n",
              "  </tbody>\n",
              "</table>\n",
              "</div>"
            ],
            "text/plain": [
              "  Bank holidays           Type       Date\n",
              "0    2012-12-26     Boxing Day 2012-12-26\n",
              "1    2012-12-25  Christmas Day 2012-12-25"
            ]
          },
          "metadata": {},
          "execution_count": 15
        }
      ]
    },
    {
      "cell_type": "code",
      "metadata": {
        "colab": {
          "base_uri": "https://localhost:8080/",
          "height": 803
        },
        "id": "MElEXBchbr1u",
        "outputId": "d3440642-3fc0-48b2-f2c1-0089df43bd0c"
      },
      "source": [
        "#Limpieza de texto eliminando cualquier caracter mal escrito\n",
        "data_clean"
      ],
      "execution_count": null,
      "outputs": [
        {
          "output_type": "execute_result",
          "data": {
            "text/html": [
              "<div>\n",
              "<style scoped>\n",
              "    .dataframe tbody tr th:only-of-type {\n",
              "        vertical-align: middle;\n",
              "    }\n",
              "\n",
              "    .dataframe tbody tr th {\n",
              "        vertical-align: top;\n",
              "    }\n",
              "\n",
              "    .dataframe thead th {\n",
              "        text-align: right;\n",
              "    }\n",
              "</style>\n",
              "<table border=\"1\" class=\"dataframe\">\n",
              "  <thead>\n",
              "    <tr style=\"text-align: right;\">\n",
              "      <th></th>\n",
              "      <th>Bank holidays</th>\n",
              "      <th>Type</th>\n",
              "      <th>Date</th>\n",
              "    </tr>\n",
              "  </thead>\n",
              "  <tbody>\n",
              "    <tr>\n",
              "      <th>0</th>\n",
              "      <td>2012-12-26</td>\n",
              "      <td>Boxing Day</td>\n",
              "      <td>2012-12-26</td>\n",
              "    </tr>\n",
              "    <tr>\n",
              "      <th>1</th>\n",
              "      <td>2012-12-25</td>\n",
              "      <td>Christmas Day</td>\n",
              "      <td>2012-12-25</td>\n",
              "    </tr>\n",
              "    <tr>\n",
              "      <th>2</th>\n",
              "      <td>2012-08-27</td>\n",
              "      <td>Summer bank holiday</td>\n",
              "      <td>2012-08-27</td>\n",
              "    </tr>\n",
              "    <tr>\n",
              "      <th>3</th>\n",
              "      <td>2012-05-06</td>\n",
              "      <td>Queen?s Diamond Jubilee (extra bank holiday)</td>\n",
              "      <td>2012-05-06</td>\n",
              "    </tr>\n",
              "    <tr>\n",
              "      <th>4</th>\n",
              "      <td>2012-04-06</td>\n",
              "      <td>Spring bank holiday (substitute day)</td>\n",
              "      <td>2012-04-06</td>\n",
              "    </tr>\n",
              "    <tr>\n",
              "      <th>5</th>\n",
              "      <td>2012-07-05</td>\n",
              "      <td>Early May bank holiday</td>\n",
              "      <td>2012-07-05</td>\n",
              "    </tr>\n",
              "    <tr>\n",
              "      <th>6</th>\n",
              "      <td>2012-09-04</td>\n",
              "      <td>Easter Monday</td>\n",
              "      <td>2012-09-04</td>\n",
              "    </tr>\n",
              "    <tr>\n",
              "      <th>7</th>\n",
              "      <td>2012-06-04</td>\n",
              "      <td>Good Friday</td>\n",
              "      <td>2012-06-04</td>\n",
              "    </tr>\n",
              "    <tr>\n",
              "      <th>8</th>\n",
              "      <td>2012-02-01</td>\n",
              "      <td>New Year?s Day (substitute day)</td>\n",
              "      <td>2012-02-01</td>\n",
              "    </tr>\n",
              "    <tr>\n",
              "      <th>9</th>\n",
              "      <td>2013-12-26</td>\n",
              "      <td>Boxing Day</td>\n",
              "      <td>2013-12-26</td>\n",
              "    </tr>\n",
              "    <tr>\n",
              "      <th>10</th>\n",
              "      <td>2013-12-25</td>\n",
              "      <td>Christmas Day</td>\n",
              "      <td>2013-12-25</td>\n",
              "    </tr>\n",
              "    <tr>\n",
              "      <th>11</th>\n",
              "      <td>2013-08-26</td>\n",
              "      <td>Summer bank holiday</td>\n",
              "      <td>2013-08-26</td>\n",
              "    </tr>\n",
              "    <tr>\n",
              "      <th>12</th>\n",
              "      <td>2013-05-27</td>\n",
              "      <td>Spring bank holiday</td>\n",
              "      <td>2013-05-27</td>\n",
              "    </tr>\n",
              "    <tr>\n",
              "      <th>13</th>\n",
              "      <td>2013-06-05</td>\n",
              "      <td>Early May bank holiday</td>\n",
              "      <td>2013-06-05</td>\n",
              "    </tr>\n",
              "    <tr>\n",
              "      <th>14</th>\n",
              "      <td>2013-01-04</td>\n",
              "      <td>Easter Monday</td>\n",
              "      <td>2013-01-04</td>\n",
              "    </tr>\n",
              "    <tr>\n",
              "      <th>15</th>\n",
              "      <td>2013-03-29</td>\n",
              "      <td>Good Friday</td>\n",
              "      <td>2013-03-29</td>\n",
              "    </tr>\n",
              "    <tr>\n",
              "      <th>16</th>\n",
              "      <td>2013-01-01</td>\n",
              "      <td>New Year?s Day</td>\n",
              "      <td>2013-01-01</td>\n",
              "    </tr>\n",
              "    <tr>\n",
              "      <th>17</th>\n",
              "      <td>2014-12-26</td>\n",
              "      <td>Boxing Day</td>\n",
              "      <td>2014-12-26</td>\n",
              "    </tr>\n",
              "    <tr>\n",
              "      <th>18</th>\n",
              "      <td>2014-12-25</td>\n",
              "      <td>Christmas Day</td>\n",
              "      <td>2014-12-25</td>\n",
              "    </tr>\n",
              "    <tr>\n",
              "      <th>19</th>\n",
              "      <td>2014-08-25</td>\n",
              "      <td>Summer bank holiday</td>\n",
              "      <td>2014-08-25</td>\n",
              "    </tr>\n",
              "    <tr>\n",
              "      <th>20</th>\n",
              "      <td>2014-05-26</td>\n",
              "      <td>Spring bank holiday</td>\n",
              "      <td>2014-05-26</td>\n",
              "    </tr>\n",
              "    <tr>\n",
              "      <th>21</th>\n",
              "      <td>2014-05-05</td>\n",
              "      <td>Early May bank holiday</td>\n",
              "      <td>2014-05-05</td>\n",
              "    </tr>\n",
              "    <tr>\n",
              "      <th>22</th>\n",
              "      <td>2014-04-21</td>\n",
              "      <td>Easter Monday</td>\n",
              "      <td>2014-04-21</td>\n",
              "    </tr>\n",
              "    <tr>\n",
              "      <th>23</th>\n",
              "      <td>2014-04-18</td>\n",
              "      <td>Good Friday</td>\n",
              "      <td>2014-04-18</td>\n",
              "    </tr>\n",
              "    <tr>\n",
              "      <th>24</th>\n",
              "      <td>2014-01-01</td>\n",
              "      <td>New Year?s Day</td>\n",
              "      <td>2014-01-01</td>\n",
              "    </tr>\n",
              "  </tbody>\n",
              "</table>\n",
              "</div>"
            ],
            "text/plain": [
              "   Bank holidays                                          Type       Date\n",
              "0     2012-12-26                                    Boxing Day 2012-12-26\n",
              "1     2012-12-25                                 Christmas Day 2012-12-25\n",
              "2     2012-08-27                           Summer bank holiday 2012-08-27\n",
              "3     2012-05-06  Queen?s Diamond Jubilee (extra bank holiday) 2012-05-06\n",
              "4     2012-04-06          Spring bank holiday (substitute day) 2012-04-06\n",
              "5     2012-07-05                        Early May bank holiday 2012-07-05\n",
              "6     2012-09-04                                 Easter Monday 2012-09-04\n",
              "7     2012-06-04                                   Good Friday 2012-06-04\n",
              "8     2012-02-01               New Year?s Day (substitute day) 2012-02-01\n",
              "9     2013-12-26                                    Boxing Day 2013-12-26\n",
              "10    2013-12-25                                 Christmas Day 2013-12-25\n",
              "11    2013-08-26                           Summer bank holiday 2013-08-26\n",
              "12    2013-05-27                           Spring bank holiday 2013-05-27\n",
              "13    2013-06-05                        Early May bank holiday 2013-06-05\n",
              "14    2013-01-04                                 Easter Monday 2013-01-04\n",
              "15    2013-03-29                                   Good Friday 2013-03-29\n",
              "16    2013-01-01                                New Year?s Day 2013-01-01\n",
              "17    2014-12-26                                    Boxing Day 2014-12-26\n",
              "18    2014-12-25                                 Christmas Day 2014-12-25\n",
              "19    2014-08-25                           Summer bank holiday 2014-08-25\n",
              "20    2014-05-26                           Spring bank holiday 2014-05-26\n",
              "21    2014-05-05                        Early May bank holiday 2014-05-05\n",
              "22    2014-04-21                                 Easter Monday 2014-04-21\n",
              "23    2014-04-18                                   Good Friday 2014-04-18\n",
              "24    2014-01-01                                New Year?s Day 2014-01-01"
            ]
          },
          "metadata": {},
          "execution_count": 16
        }
      ]
    },
    {
      "cell_type": "code",
      "metadata": {
        "id": "P39DldtmyREv"
      },
      "source": [
        "text_to_clean = data_clean['Type'].values\n",
        "text_to_clean_list = list(text_to_clean)\n",
        "text_cleaned = [(re.sub(\"\\!|\\'|\\?\",\"\",i)) for i in text_to_clean_list ]\n",
        "text_cleaned\n",
        "data_clean['Holiday_UK'] = text_cleaned"
      ],
      "execution_count": null,
      "outputs": []
    },
    {
      "cell_type": "code",
      "metadata": {
        "colab": {
          "base_uri": "https://localhost:8080/",
          "height": 803
        },
        "id": "V8lQRGpVyRCD",
        "outputId": "879c0f85-3327-4138-ef96-3d1b5205b10b"
      },
      "source": [
        "data_clean"
      ],
      "execution_count": null,
      "outputs": [
        {
          "output_type": "execute_result",
          "data": {
            "text/html": [
              "<div>\n",
              "<style scoped>\n",
              "    .dataframe tbody tr th:only-of-type {\n",
              "        vertical-align: middle;\n",
              "    }\n",
              "\n",
              "    .dataframe tbody tr th {\n",
              "        vertical-align: top;\n",
              "    }\n",
              "\n",
              "    .dataframe thead th {\n",
              "        text-align: right;\n",
              "    }\n",
              "</style>\n",
              "<table border=\"1\" class=\"dataframe\">\n",
              "  <thead>\n",
              "    <tr style=\"text-align: right;\">\n",
              "      <th></th>\n",
              "      <th>Bank holidays</th>\n",
              "      <th>Type</th>\n",
              "      <th>Date</th>\n",
              "      <th>Holiday_UK</th>\n",
              "    </tr>\n",
              "  </thead>\n",
              "  <tbody>\n",
              "    <tr>\n",
              "      <th>0</th>\n",
              "      <td>2012-12-26</td>\n",
              "      <td>Boxing Day</td>\n",
              "      <td>2012-12-26</td>\n",
              "      <td>Boxing Day</td>\n",
              "    </tr>\n",
              "    <tr>\n",
              "      <th>1</th>\n",
              "      <td>2012-12-25</td>\n",
              "      <td>Christmas Day</td>\n",
              "      <td>2012-12-25</td>\n",
              "      <td>Christmas Day</td>\n",
              "    </tr>\n",
              "    <tr>\n",
              "      <th>2</th>\n",
              "      <td>2012-08-27</td>\n",
              "      <td>Summer bank holiday</td>\n",
              "      <td>2012-08-27</td>\n",
              "      <td>Summer bank holiday</td>\n",
              "    </tr>\n",
              "    <tr>\n",
              "      <th>3</th>\n",
              "      <td>2012-05-06</td>\n",
              "      <td>Queen?s Diamond Jubilee (extra bank holiday)</td>\n",
              "      <td>2012-05-06</td>\n",
              "      <td>Queens Diamond Jubilee (extra bank holiday)</td>\n",
              "    </tr>\n",
              "    <tr>\n",
              "      <th>4</th>\n",
              "      <td>2012-04-06</td>\n",
              "      <td>Spring bank holiday (substitute day)</td>\n",
              "      <td>2012-04-06</td>\n",
              "      <td>Spring bank holiday (substitute day)</td>\n",
              "    </tr>\n",
              "    <tr>\n",
              "      <th>5</th>\n",
              "      <td>2012-07-05</td>\n",
              "      <td>Early May bank holiday</td>\n",
              "      <td>2012-07-05</td>\n",
              "      <td>Early May bank holiday</td>\n",
              "    </tr>\n",
              "    <tr>\n",
              "      <th>6</th>\n",
              "      <td>2012-09-04</td>\n",
              "      <td>Easter Monday</td>\n",
              "      <td>2012-09-04</td>\n",
              "      <td>Easter Monday</td>\n",
              "    </tr>\n",
              "    <tr>\n",
              "      <th>7</th>\n",
              "      <td>2012-06-04</td>\n",
              "      <td>Good Friday</td>\n",
              "      <td>2012-06-04</td>\n",
              "      <td>Good Friday</td>\n",
              "    </tr>\n",
              "    <tr>\n",
              "      <th>8</th>\n",
              "      <td>2012-02-01</td>\n",
              "      <td>New Year?s Day (substitute day)</td>\n",
              "      <td>2012-02-01</td>\n",
              "      <td>New Years Day (substitute day)</td>\n",
              "    </tr>\n",
              "    <tr>\n",
              "      <th>9</th>\n",
              "      <td>2013-12-26</td>\n",
              "      <td>Boxing Day</td>\n",
              "      <td>2013-12-26</td>\n",
              "      <td>Boxing Day</td>\n",
              "    </tr>\n",
              "    <tr>\n",
              "      <th>10</th>\n",
              "      <td>2013-12-25</td>\n",
              "      <td>Christmas Day</td>\n",
              "      <td>2013-12-25</td>\n",
              "      <td>Christmas Day</td>\n",
              "    </tr>\n",
              "    <tr>\n",
              "      <th>11</th>\n",
              "      <td>2013-08-26</td>\n",
              "      <td>Summer bank holiday</td>\n",
              "      <td>2013-08-26</td>\n",
              "      <td>Summer bank holiday</td>\n",
              "    </tr>\n",
              "    <tr>\n",
              "      <th>12</th>\n",
              "      <td>2013-05-27</td>\n",
              "      <td>Spring bank holiday</td>\n",
              "      <td>2013-05-27</td>\n",
              "      <td>Spring bank holiday</td>\n",
              "    </tr>\n",
              "    <tr>\n",
              "      <th>13</th>\n",
              "      <td>2013-06-05</td>\n",
              "      <td>Early May bank holiday</td>\n",
              "      <td>2013-06-05</td>\n",
              "      <td>Early May bank holiday</td>\n",
              "    </tr>\n",
              "    <tr>\n",
              "      <th>14</th>\n",
              "      <td>2013-01-04</td>\n",
              "      <td>Easter Monday</td>\n",
              "      <td>2013-01-04</td>\n",
              "      <td>Easter Monday</td>\n",
              "    </tr>\n",
              "    <tr>\n",
              "      <th>15</th>\n",
              "      <td>2013-03-29</td>\n",
              "      <td>Good Friday</td>\n",
              "      <td>2013-03-29</td>\n",
              "      <td>Good Friday</td>\n",
              "    </tr>\n",
              "    <tr>\n",
              "      <th>16</th>\n",
              "      <td>2013-01-01</td>\n",
              "      <td>New Year?s Day</td>\n",
              "      <td>2013-01-01</td>\n",
              "      <td>New Years Day</td>\n",
              "    </tr>\n",
              "    <tr>\n",
              "      <th>17</th>\n",
              "      <td>2014-12-26</td>\n",
              "      <td>Boxing Day</td>\n",
              "      <td>2014-12-26</td>\n",
              "      <td>Boxing Day</td>\n",
              "    </tr>\n",
              "    <tr>\n",
              "      <th>18</th>\n",
              "      <td>2014-12-25</td>\n",
              "      <td>Christmas Day</td>\n",
              "      <td>2014-12-25</td>\n",
              "      <td>Christmas Day</td>\n",
              "    </tr>\n",
              "    <tr>\n",
              "      <th>19</th>\n",
              "      <td>2014-08-25</td>\n",
              "      <td>Summer bank holiday</td>\n",
              "      <td>2014-08-25</td>\n",
              "      <td>Summer bank holiday</td>\n",
              "    </tr>\n",
              "    <tr>\n",
              "      <th>20</th>\n",
              "      <td>2014-05-26</td>\n",
              "      <td>Spring bank holiday</td>\n",
              "      <td>2014-05-26</td>\n",
              "      <td>Spring bank holiday</td>\n",
              "    </tr>\n",
              "    <tr>\n",
              "      <th>21</th>\n",
              "      <td>2014-05-05</td>\n",
              "      <td>Early May bank holiday</td>\n",
              "      <td>2014-05-05</td>\n",
              "      <td>Early May bank holiday</td>\n",
              "    </tr>\n",
              "    <tr>\n",
              "      <th>22</th>\n",
              "      <td>2014-04-21</td>\n",
              "      <td>Easter Monday</td>\n",
              "      <td>2014-04-21</td>\n",
              "      <td>Easter Monday</td>\n",
              "    </tr>\n",
              "    <tr>\n",
              "      <th>23</th>\n",
              "      <td>2014-04-18</td>\n",
              "      <td>Good Friday</td>\n",
              "      <td>2014-04-18</td>\n",
              "      <td>Good Friday</td>\n",
              "    </tr>\n",
              "    <tr>\n",
              "      <th>24</th>\n",
              "      <td>2014-01-01</td>\n",
              "      <td>New Year?s Day</td>\n",
              "      <td>2014-01-01</td>\n",
              "      <td>New Years Day</td>\n",
              "    </tr>\n",
              "  </tbody>\n",
              "</table>\n",
              "</div>"
            ],
            "text/plain": [
              "   Bank holidays  ...                                   Holiday_UK\n",
              "0     2012-12-26  ...                                   Boxing Day\n",
              "1     2012-12-25  ...                                Christmas Day\n",
              "2     2012-08-27  ...                          Summer bank holiday\n",
              "3     2012-05-06  ...  Queens Diamond Jubilee (extra bank holiday)\n",
              "4     2012-04-06  ...         Spring bank holiday (substitute day)\n",
              "5     2012-07-05  ...                       Early May bank holiday\n",
              "6     2012-09-04  ...                                Easter Monday\n",
              "7     2012-06-04  ...                                  Good Friday\n",
              "8     2012-02-01  ...               New Years Day (substitute day)\n",
              "9     2013-12-26  ...                                   Boxing Day\n",
              "10    2013-12-25  ...                                Christmas Day\n",
              "11    2013-08-26  ...                          Summer bank holiday\n",
              "12    2013-05-27  ...                          Spring bank holiday\n",
              "13    2013-06-05  ...                       Early May bank holiday\n",
              "14    2013-01-04  ...                                Easter Monday\n",
              "15    2013-03-29  ...                                  Good Friday\n",
              "16    2013-01-01  ...                                New Years Day\n",
              "17    2014-12-26  ...                                   Boxing Day\n",
              "18    2014-12-25  ...                                Christmas Day\n",
              "19    2014-08-25  ...                          Summer bank holiday\n",
              "20    2014-05-26  ...                          Spring bank holiday\n",
              "21    2014-05-05  ...                       Early May bank holiday\n",
              "22    2014-04-21  ...                                Easter Monday\n",
              "23    2014-04-18  ...                                  Good Friday\n",
              "24    2014-01-01  ...                                New Years Day\n",
              "\n",
              "[25 rows x 4 columns]"
            ]
          },
          "metadata": {},
          "execution_count": 36
        }
      ]
    },
    {
      "cell_type": "code",
      "metadata": {
        "id": "my1k98T_yQ_6"
      },
      "source": [
        ""
      ],
      "execution_count": null,
      "outputs": []
    },
    {
      "cell_type": "code",
      "metadata": {
        "id": "0Wjf1OgByQ9b"
      },
      "source": [
        ""
      ],
      "execution_count": null,
      "outputs": []
    },
    {
      "cell_type": "code",
      "metadata": {
        "id": "IaYTi7DnyQ6u"
      },
      "source": [
        ""
      ],
      "execution_count": null,
      "outputs": []
    },
    {
      "cell_type": "code",
      "metadata": {
        "id": "N-a1dRuLyQ4a"
      },
      "source": [
        ""
      ],
      "execution_count": null,
      "outputs": []
    },
    {
      "cell_type": "code",
      "metadata": {
        "id": "Zjwr36wqyQ12"
      },
      "source": [
        ""
      ],
      "execution_count": null,
      "outputs": []
    },
    {
      "cell_type": "code",
      "metadata": {
        "id": "9RqSS-kFyQzB"
      },
      "source": [
        ""
      ],
      "execution_count": null,
      "outputs": []
    },
    {
      "cell_type": "code",
      "metadata": {
        "id": "QrjCgiiMyQwj"
      },
      "source": [
        ""
      ],
      "execution_count": null,
      "outputs": []
    },
    {
      "cell_type": "code",
      "metadata": {
        "colab": {
          "base_uri": "https://localhost:8080/",
          "height": 381
        },
        "id": "H_Mo8-htbrqv",
        "outputId": "a207d057-7054-4533-ac4b-e4a6958bdd81"
      },
      "source": [
        "#Incoporando Rate de Implementacion\n",
        "valores = data_clean_trimestre['LCLid'].values\n",
        "valores_list = list(valores)\n",
        "tope_max = len(valores_list)-1\n",
        "ratio_implementacion = [((valores_list[i+1]-valores_list[i])/(valores_list[i+1])*100) for i in range(0,tope_max)]\n",
        "ratio_implementacion.insert(0,0)\n",
        "ratio_implementacion\n",
        "data_clean_trimestre['ratio_implementacion'] = ratio_implementacion\n",
        "data_clean_trimestre\n"
      ],
      "execution_count": null,
      "outputs": [
        {
          "output_type": "execute_result",
          "data": {
            "text/html": [
              "<div>\n",
              "<style scoped>\n",
              "    .dataframe tbody tr th:only-of-type {\n",
              "        vertical-align: middle;\n",
              "    }\n",
              "\n",
              "    .dataframe tbody tr th {\n",
              "        vertical-align: top;\n",
              "    }\n",
              "\n",
              "    .dataframe thead th {\n",
              "        text-align: right;\n",
              "    }\n",
              "</style>\n",
              "<table border=\"1\" class=\"dataframe\">\n",
              "  <thead>\n",
              "    <tr style=\"text-align: right;\">\n",
              "      <th></th>\n",
              "      <th>LCLid</th>\n",
              "      <th>ratio_implementacion</th>\n",
              "    </tr>\n",
              "    <tr>\n",
              "      <th>Q</th>\n",
              "      <th></th>\n",
              "      <th></th>\n",
              "    </tr>\n",
              "  </thead>\n",
              "  <tbody>\n",
              "    <tr>\n",
              "      <th>2011Q4</th>\n",
              "      <td>8523</td>\n",
              "      <td>0.000000</td>\n",
              "    </tr>\n",
              "    <tr>\n",
              "      <th>2012Q1</th>\n",
              "      <td>67613</td>\n",
              "      <td>87.394436</td>\n",
              "    </tr>\n",
              "    <tr>\n",
              "      <th>2012Q2</th>\n",
              "      <td>258286</td>\n",
              "      <td>73.822429</td>\n",
              "    </tr>\n",
              "    <tr>\n",
              "      <th>2012Q3</th>\n",
              "      <td>436145</td>\n",
              "      <td>40.779787</td>\n",
              "    </tr>\n",
              "    <tr>\n",
              "      <th>2012Q4</th>\n",
              "      <td>501536</td>\n",
              "      <td>13.038147</td>\n",
              "    </tr>\n",
              "    <tr>\n",
              "      <th>2013Q1</th>\n",
              "      <td>492073</td>\n",
              "      <td>-1.923089</td>\n",
              "    </tr>\n",
              "    <tr>\n",
              "      <th>2013Q2</th>\n",
              "      <td>488353</td>\n",
              "      <td>-0.761744</td>\n",
              "    </tr>\n",
              "    <tr>\n",
              "      <th>2013Q3</th>\n",
              "      <td>484987</td>\n",
              "      <td>-0.694039</td>\n",
              "    </tr>\n",
              "    <tr>\n",
              "      <th>2013Q4</th>\n",
              "      <td>474818</td>\n",
              "      <td>-2.141663</td>\n",
              "    </tr>\n",
              "    <tr>\n",
              "      <th>2014Q1</th>\n",
              "      <td>298099</td>\n",
              "      <td>-59.281984</td>\n",
              "    </tr>\n",
              "  </tbody>\n",
              "</table>\n",
              "</div>"
            ],
            "text/plain": [
              "         LCLid  ratio_implementacion\n",
              "Q                                   \n",
              "2011Q4    8523              0.000000\n",
              "2012Q1   67613             87.394436\n",
              "2012Q2  258286             73.822429\n",
              "2012Q3  436145             40.779787\n",
              "2012Q4  501536             13.038147\n",
              "2013Q1  492073             -1.923089\n",
              "2013Q2  488353             -0.761744\n",
              "2013Q3  484987             -0.694039\n",
              "2013Q4  474818             -2.141663\n",
              "2014Q1  298099            -59.281984"
            ]
          },
          "metadata": {},
          "execution_count": 39
        }
      ]
    },
    {
      "cell_type": "code",
      "metadata": {
        "id": "TiiP1CIUnTFQ"
      },
      "source": [
        "#Se identifica que durante el 2013 fue el pico de incorporacion de smarts meters, y finanilzando el 2013\n",
        "#se empezo a desinstalar progresivamente los medidores? "
      ],
      "execution_count": null,
      "outputs": []
    }
  ]
}